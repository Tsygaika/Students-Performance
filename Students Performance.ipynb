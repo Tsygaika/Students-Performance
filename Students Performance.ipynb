{
 "cells": [
  {
   "cell_type": "code",
   "execution_count": null,
   "id": "87fe1faa",
   "metadata": {},
   "outputs": [],
   "source": [
    "import pandas as pd\n",
    "import seaborn as sns\n",
    "import matplotlib.pyplot as plt\n",
    "\n",
    "df = pd.read_csv('Student_performance_data.csv')"
   ]
  },
  {
   "cell_type": "markdown",
   "id": "bd8fe756",
   "metadata": {},
   "source": [
    "## EDA"
   ]
  },
  {
   "cell_type": "markdown",
   "id": "15adf21a",
   "metadata": {},
   "source": [
    "#### Пропуски и дубли"
   ]
  },
  {
   "cell_type": "markdown",
   "id": "0f721319",
   "metadata": {},
   "source": [
    "Посмотрим на пропуски:"
   ]
  },
  {
   "cell_type": "code",
   "execution_count": 8,
   "id": "8c9b528d",
   "metadata": {},
   "outputs": [
    {
     "data": {
      "text/plain": [
       "StudentID            0\n",
       "Age                  0\n",
       "Gender               0\n",
       "Ethnicity            0\n",
       "ParentalEducation    0\n",
       "StudyTimeWeekly      0\n",
       "Absences             0\n",
       "Tutoring             0\n",
       "ParentalSupport      0\n",
       "Extracurricular      0\n",
       "Sports               0\n",
       "Music                0\n",
       "Volunteering         0\n",
       "GPA                  0\n",
       "GradeClass           0\n",
       "dtype: int64"
      ]
     },
     "execution_count": 8,
     "metadata": {},
     "output_type": "execute_result"
    }
   ],
   "source": [
    "df.isnull().sum()"
   ]
  },
  {
   "cell_type": "markdown",
   "id": "0486cd7e",
   "metadata": {},
   "source": [
    "и на дубли:"
   ]
  },
  {
   "cell_type": "code",
   "execution_count": 9,
   "id": "1bfeadc2",
   "metadata": {},
   "outputs": [
    {
     "data": {
      "text/plain": [
       "np.int64(0)"
      ]
     },
     "execution_count": 9,
     "metadata": {},
     "output_type": "execute_result"
    }
   ],
   "source": [
    "df.duplicated().sum()"
   ]
  },
  {
   "cell_type": "markdown",
   "id": "516abe70",
   "metadata": {},
   "source": [
    "Ни пропусков, ни дублей нет."
   ]
  },
  {
   "cell_type": "markdown",
   "id": "c934aef1",
   "metadata": {},
   "source": [
    "#### Нормализация данных"
   ]
  },
  {
   "cell_type": "code",
   "execution_count": 2,
   "id": "74dc86cd",
   "metadata": {},
   "outputs": [
    {
     "data": {
      "text/html": [
       "<div>\n",
       "<style scoped>\n",
       "    .dataframe tbody tr th:only-of-type {\n",
       "        vertical-align: middle;\n",
       "    }\n",
       "\n",
       "    .dataframe tbody tr th {\n",
       "        vertical-align: top;\n",
       "    }\n",
       "\n",
       "    .dataframe thead th {\n",
       "        text-align: right;\n",
       "    }\n",
       "</style>\n",
       "<table border=\"1\" class=\"dataframe\">\n",
       "  <thead>\n",
       "    <tr style=\"text-align: right;\">\n",
       "      <th></th>\n",
       "      <th>StudentID</th>\n",
       "      <th>Age</th>\n",
       "      <th>Gender</th>\n",
       "      <th>Ethnicity</th>\n",
       "      <th>ParentalEducation</th>\n",
       "      <th>StudyTimeWeekly</th>\n",
       "      <th>Absences</th>\n",
       "      <th>Tutoring</th>\n",
       "      <th>ParentalSupport</th>\n",
       "      <th>Extracurricular</th>\n",
       "      <th>Sports</th>\n",
       "      <th>Music</th>\n",
       "      <th>Volunteering</th>\n",
       "      <th>GPA</th>\n",
       "      <th>GradeClass</th>\n",
       "    </tr>\n",
       "  </thead>\n",
       "  <tbody>\n",
       "    <tr>\n",
       "      <th>count</th>\n",
       "      <td>2392.000000</td>\n",
       "      <td>2392.000000</td>\n",
       "      <td>2392.000000</td>\n",
       "      <td>2392.000000</td>\n",
       "      <td>2392.000000</td>\n",
       "      <td>2392.000000</td>\n",
       "      <td>2392.000000</td>\n",
       "      <td>2392.000000</td>\n",
       "      <td>2392.000000</td>\n",
       "      <td>2392.000000</td>\n",
       "      <td>2392.000000</td>\n",
       "      <td>2392.000000</td>\n",
       "      <td>2392.000000</td>\n",
       "      <td>2392.000000</td>\n",
       "      <td>2392.000000</td>\n",
       "    </tr>\n",
       "    <tr>\n",
       "      <th>mean</th>\n",
       "      <td>2196.500000</td>\n",
       "      <td>16.468645</td>\n",
       "      <td>0.510870</td>\n",
       "      <td>0.877508</td>\n",
       "      <td>1.746237</td>\n",
       "      <td>9.771992</td>\n",
       "      <td>14.541388</td>\n",
       "      <td>0.301421</td>\n",
       "      <td>2.122074</td>\n",
       "      <td>0.383361</td>\n",
       "      <td>0.303512</td>\n",
       "      <td>0.196906</td>\n",
       "      <td>0.157191</td>\n",
       "      <td>1.906186</td>\n",
       "      <td>2.983696</td>\n",
       "    </tr>\n",
       "    <tr>\n",
       "      <th>std</th>\n",
       "      <td>690.655244</td>\n",
       "      <td>1.123798</td>\n",
       "      <td>0.499986</td>\n",
       "      <td>1.028476</td>\n",
       "      <td>1.000411</td>\n",
       "      <td>5.652774</td>\n",
       "      <td>8.467417</td>\n",
       "      <td>0.458971</td>\n",
       "      <td>1.122813</td>\n",
       "      <td>0.486307</td>\n",
       "      <td>0.459870</td>\n",
       "      <td>0.397744</td>\n",
       "      <td>0.364057</td>\n",
       "      <td>0.915156</td>\n",
       "      <td>1.233908</td>\n",
       "    </tr>\n",
       "    <tr>\n",
       "      <th>min</th>\n",
       "      <td>1001.000000</td>\n",
       "      <td>15.000000</td>\n",
       "      <td>0.000000</td>\n",
       "      <td>0.000000</td>\n",
       "      <td>0.000000</td>\n",
       "      <td>0.001057</td>\n",
       "      <td>0.000000</td>\n",
       "      <td>0.000000</td>\n",
       "      <td>0.000000</td>\n",
       "      <td>0.000000</td>\n",
       "      <td>0.000000</td>\n",
       "      <td>0.000000</td>\n",
       "      <td>0.000000</td>\n",
       "      <td>0.000000</td>\n",
       "      <td>0.000000</td>\n",
       "    </tr>\n",
       "    <tr>\n",
       "      <th>25%</th>\n",
       "      <td>1598.750000</td>\n",
       "      <td>15.000000</td>\n",
       "      <td>0.000000</td>\n",
       "      <td>0.000000</td>\n",
       "      <td>1.000000</td>\n",
       "      <td>5.043079</td>\n",
       "      <td>7.000000</td>\n",
       "      <td>0.000000</td>\n",
       "      <td>1.000000</td>\n",
       "      <td>0.000000</td>\n",
       "      <td>0.000000</td>\n",
       "      <td>0.000000</td>\n",
       "      <td>0.000000</td>\n",
       "      <td>1.174803</td>\n",
       "      <td>2.000000</td>\n",
       "    </tr>\n",
       "    <tr>\n",
       "      <th>50%</th>\n",
       "      <td>2196.500000</td>\n",
       "      <td>16.000000</td>\n",
       "      <td>1.000000</td>\n",
       "      <td>0.000000</td>\n",
       "      <td>2.000000</td>\n",
       "      <td>9.705363</td>\n",
       "      <td>15.000000</td>\n",
       "      <td>0.000000</td>\n",
       "      <td>2.000000</td>\n",
       "      <td>0.000000</td>\n",
       "      <td>0.000000</td>\n",
       "      <td>0.000000</td>\n",
       "      <td>0.000000</td>\n",
       "      <td>1.893393</td>\n",
       "      <td>4.000000</td>\n",
       "    </tr>\n",
       "    <tr>\n",
       "      <th>75%</th>\n",
       "      <td>2794.250000</td>\n",
       "      <td>17.000000</td>\n",
       "      <td>1.000000</td>\n",
       "      <td>2.000000</td>\n",
       "      <td>2.000000</td>\n",
       "      <td>14.408410</td>\n",
       "      <td>22.000000</td>\n",
       "      <td>1.000000</td>\n",
       "      <td>3.000000</td>\n",
       "      <td>1.000000</td>\n",
       "      <td>1.000000</td>\n",
       "      <td>0.000000</td>\n",
       "      <td>0.000000</td>\n",
       "      <td>2.622216</td>\n",
       "      <td>4.000000</td>\n",
       "    </tr>\n",
       "    <tr>\n",
       "      <th>max</th>\n",
       "      <td>3392.000000</td>\n",
       "      <td>18.000000</td>\n",
       "      <td>1.000000</td>\n",
       "      <td>3.000000</td>\n",
       "      <td>4.000000</td>\n",
       "      <td>19.978094</td>\n",
       "      <td>29.000000</td>\n",
       "      <td>1.000000</td>\n",
       "      <td>4.000000</td>\n",
       "      <td>1.000000</td>\n",
       "      <td>1.000000</td>\n",
       "      <td>1.000000</td>\n",
       "      <td>1.000000</td>\n",
       "      <td>4.000000</td>\n",
       "      <td>4.000000</td>\n",
       "    </tr>\n",
       "  </tbody>\n",
       "</table>\n",
       "</div>"
      ],
      "text/plain": [
       "         StudentID          Age       Gender    Ethnicity  ParentalEducation  \\\n",
       "count  2392.000000  2392.000000  2392.000000  2392.000000        2392.000000   \n",
       "mean   2196.500000    16.468645     0.510870     0.877508           1.746237   \n",
       "std     690.655244     1.123798     0.499986     1.028476           1.000411   \n",
       "min    1001.000000    15.000000     0.000000     0.000000           0.000000   \n",
       "25%    1598.750000    15.000000     0.000000     0.000000           1.000000   \n",
       "50%    2196.500000    16.000000     1.000000     0.000000           2.000000   \n",
       "75%    2794.250000    17.000000     1.000000     2.000000           2.000000   \n",
       "max    3392.000000    18.000000     1.000000     3.000000           4.000000   \n",
       "\n",
       "       StudyTimeWeekly     Absences     Tutoring  ParentalSupport  \\\n",
       "count      2392.000000  2392.000000  2392.000000      2392.000000   \n",
       "mean          9.771992    14.541388     0.301421         2.122074   \n",
       "std           5.652774     8.467417     0.458971         1.122813   \n",
       "min           0.001057     0.000000     0.000000         0.000000   \n",
       "25%           5.043079     7.000000     0.000000         1.000000   \n",
       "50%           9.705363    15.000000     0.000000         2.000000   \n",
       "75%          14.408410    22.000000     1.000000         3.000000   \n",
       "max          19.978094    29.000000     1.000000         4.000000   \n",
       "\n",
       "       Extracurricular       Sports        Music  Volunteering          GPA  \\\n",
       "count      2392.000000  2392.000000  2392.000000   2392.000000  2392.000000   \n",
       "mean          0.383361     0.303512     0.196906      0.157191     1.906186   \n",
       "std           0.486307     0.459870     0.397744      0.364057     0.915156   \n",
       "min           0.000000     0.000000     0.000000      0.000000     0.000000   \n",
       "25%           0.000000     0.000000     0.000000      0.000000     1.174803   \n",
       "50%           0.000000     0.000000     0.000000      0.000000     1.893393   \n",
       "75%           1.000000     1.000000     0.000000      0.000000     2.622216   \n",
       "max           1.000000     1.000000     1.000000      1.000000     4.000000   \n",
       "\n",
       "        GradeClass  \n",
       "count  2392.000000  \n",
       "mean      2.983696  \n",
       "std       1.233908  \n",
       "min       0.000000  \n",
       "25%       2.000000  \n",
       "50%       4.000000  \n",
       "75%       4.000000  \n",
       "max       4.000000  "
      ]
     },
     "execution_count": 2,
     "metadata": {},
     "output_type": "execute_result"
    }
   ],
   "source": [
    "df.describe()"
   ]
  },
  {
   "cell_type": "markdown",
   "id": "ea6deea3",
   "metadata": {},
   "source": [
    "Видим, что данные не нормализованы. Исправим это:"
   ]
  },
  {
   "cell_type": "code",
   "execution_count": 3,
   "id": "2febb0e7",
   "metadata": {},
   "outputs": [],
   "source": [
    "df = df.drop('StudentID', axis = 1) #этот столбец не пригодится при обучении"
   ]
  },
  {
   "cell_type": "code",
   "execution_count": 14,
   "id": "427899fc",
   "metadata": {},
   "outputs": [],
   "source": [
    "from sklearn.preprocessing import StandardScaler\n",
    "\n",
    "scaler = StandardScaler()\n",
    "X_std = scaler.fit_transform(df)\n",
    "df_std = pd.DataFrame(X_std, columns = df.columns)"
   ]
  },
  {
   "cell_type": "code",
   "execution_count": 15,
   "id": "738bbb10",
   "metadata": {},
   "outputs": [
    {
     "data": {
      "text/html": [
       "<div>\n",
       "<style scoped>\n",
       "    .dataframe tbody tr th:only-of-type {\n",
       "        vertical-align: middle;\n",
       "    }\n",
       "\n",
       "    .dataframe tbody tr th {\n",
       "        vertical-align: top;\n",
       "    }\n",
       "\n",
       "    .dataframe thead th {\n",
       "        text-align: right;\n",
       "    }\n",
       "</style>\n",
       "<table border=\"1\" class=\"dataframe\">\n",
       "  <thead>\n",
       "    <tr style=\"text-align: right;\">\n",
       "      <th></th>\n",
       "      <th>Age</th>\n",
       "      <th>Gender</th>\n",
       "      <th>Ethnicity</th>\n",
       "      <th>ParentalEducation</th>\n",
       "      <th>StudyTimeWeekly</th>\n",
       "      <th>Absences</th>\n",
       "      <th>Tutoring</th>\n",
       "      <th>ParentalSupport</th>\n",
       "      <th>Extracurricular</th>\n",
       "      <th>Sports</th>\n",
       "      <th>Music</th>\n",
       "      <th>Volunteering</th>\n",
       "      <th>GPA</th>\n",
       "      <th>GradeClass</th>\n",
       "    </tr>\n",
       "  </thead>\n",
       "  <tbody>\n",
       "    <tr>\n",
       "      <th>count</th>\n",
       "      <td>2.392000e+03</td>\n",
       "      <td>2.392000e+03</td>\n",
       "      <td>2.392000e+03</td>\n",
       "      <td>2.392000e+03</td>\n",
       "      <td>2.392000e+03</td>\n",
       "      <td>2.392000e+03</td>\n",
       "      <td>2.392000e+03</td>\n",
       "      <td>2.392000e+03</td>\n",
       "      <td>2.392000e+03</td>\n",
       "      <td>2.392000e+03</td>\n",
       "      <td>2.392000e+03</td>\n",
       "      <td>2.392000e+03</td>\n",
       "      <td>2.392000e+03</td>\n",
       "      <td>2.392000e+03</td>\n",
       "    </tr>\n",
       "    <tr>\n",
       "      <th>mean</th>\n",
       "      <td>8.406505e-16</td>\n",
       "      <td>-1.440691e-16</td>\n",
       "      <td>-7.129191e-17</td>\n",
       "      <td>4.455745e-17</td>\n",
       "      <td>1.173346e-16</td>\n",
       "      <td>8.911489e-18</td>\n",
       "      <td>-2.970496e-17</td>\n",
       "      <td>-1.336723e-17</td>\n",
       "      <td>4.232957e-17</td>\n",
       "      <td>-4.158695e-17</td>\n",
       "      <td>-4.010170e-17</td>\n",
       "      <td>-8.465915e-17</td>\n",
       "      <td>4.381482e-17</td>\n",
       "      <td>-1.782298e-17</td>\n",
       "    </tr>\n",
       "    <tr>\n",
       "      <th>std</th>\n",
       "      <td>1.000209e+00</td>\n",
       "      <td>1.000209e+00</td>\n",
       "      <td>1.000209e+00</td>\n",
       "      <td>1.000209e+00</td>\n",
       "      <td>1.000209e+00</td>\n",
       "      <td>1.000209e+00</td>\n",
       "      <td>1.000209e+00</td>\n",
       "      <td>1.000209e+00</td>\n",
       "      <td>1.000209e+00</td>\n",
       "      <td>1.000209e+00</td>\n",
       "      <td>1.000209e+00</td>\n",
       "      <td>1.000209e+00</td>\n",
       "      <td>1.000209e+00</td>\n",
       "      <td>1.000209e+00</td>\n",
       "    </tr>\n",
       "    <tr>\n",
       "      <th>min</th>\n",
       "      <td>-1.307132e+00</td>\n",
       "      <td>-1.021981e+00</td>\n",
       "      <td>-8.533909e-01</td>\n",
       "      <td>-1.745885e+00</td>\n",
       "      <td>-1.728882e+00</td>\n",
       "      <td>-1.717694e+00</td>\n",
       "      <td>-6.568700e-01</td>\n",
       "      <td>-1.890357e+00</td>\n",
       "      <td>-7.884763e-01</td>\n",
       "      <td>-6.601320e-01</td>\n",
       "      <td>-4.951614e-01</td>\n",
       "      <td>-4.318656e-01</td>\n",
       "      <td>-2.083345e+00</td>\n",
       "      <td>-2.418592e+00</td>\n",
       "    </tr>\n",
       "    <tr>\n",
       "      <th>25%</th>\n",
       "      <td>-1.307132e+00</td>\n",
       "      <td>-1.021981e+00</td>\n",
       "      <td>-8.533909e-01</td>\n",
       "      <td>-7.460868e-01</td>\n",
       "      <td>-8.367399e-01</td>\n",
       "      <td>-8.908224e-01</td>\n",
       "      <td>-6.568700e-01</td>\n",
       "      <td>-9.995505e-01</td>\n",
       "      <td>-7.884763e-01</td>\n",
       "      <td>-6.601320e-01</td>\n",
       "      <td>-4.951614e-01</td>\n",
       "      <td>-4.318656e-01</td>\n",
       "      <td>-7.993565e-01</td>\n",
       "      <td>-7.973866e-01</td>\n",
       "    </tr>\n",
       "    <tr>\n",
       "      <th>50%</th>\n",
       "      <td>-4.171064e-01</td>\n",
       "      <td>9.784921e-01</td>\n",
       "      <td>-8.533909e-01</td>\n",
       "      <td>2.537113e-01</td>\n",
       "      <td>-1.178937e-02</td>\n",
       "      <td>5.417330e-02</td>\n",
       "      <td>-6.568700e-01</td>\n",
       "      <td>-1.087439e-01</td>\n",
       "      <td>-7.884763e-01</td>\n",
       "      <td>-6.601320e-01</td>\n",
       "      <td>-4.951614e-01</td>\n",
       "      <td>-4.318656e-01</td>\n",
       "      <td>-1.398263e-02</td>\n",
       "      <td>8.238193e-01</td>\n",
       "    </tr>\n",
       "    <tr>\n",
       "      <th>75%</th>\n",
       "      <td>4.729190e-01</td>\n",
       "      <td>9.784921e-01</td>\n",
       "      <td>1.091641e+00</td>\n",
       "      <td>2.537113e-01</td>\n",
       "      <td>8.203737e-01</td>\n",
       "      <td>8.810445e-01</td>\n",
       "      <td>1.522371e+00</td>\n",
       "      <td>7.820626e-01</td>\n",
       "      <td>1.268269e+00</td>\n",
       "      <td>1.514848e+00</td>\n",
       "      <td>-4.951614e-01</td>\n",
       "      <td>-4.318656e-01</td>\n",
       "      <td>7.825767e-01</td>\n",
       "      <td>8.238193e-01</td>\n",
       "    </tr>\n",
       "    <tr>\n",
       "      <th>max</th>\n",
       "      <td>1.362944e+00</td>\n",
       "      <td>9.784921e-01</td>\n",
       "      <td>2.064157e+00</td>\n",
       "      <td>2.253308e+00</td>\n",
       "      <td>1.805881e+00</td>\n",
       "      <td>1.707916e+00</td>\n",
       "      <td>1.522371e+00</td>\n",
       "      <td>1.672869e+00</td>\n",
       "      <td>1.268269e+00</td>\n",
       "      <td>1.514848e+00</td>\n",
       "      <td>2.019544e+00</td>\n",
       "      <td>2.315535e+00</td>\n",
       "      <td>2.288410e+00</td>\n",
       "      <td>8.238193e-01</td>\n",
       "    </tr>\n",
       "  </tbody>\n",
       "</table>\n",
       "</div>"
      ],
      "text/plain": [
       "                Age        Gender     Ethnicity  ParentalEducation  \\\n",
       "count  2.392000e+03  2.392000e+03  2.392000e+03       2.392000e+03   \n",
       "mean   8.406505e-16 -1.440691e-16 -7.129191e-17       4.455745e-17   \n",
       "std    1.000209e+00  1.000209e+00  1.000209e+00       1.000209e+00   \n",
       "min   -1.307132e+00 -1.021981e+00 -8.533909e-01      -1.745885e+00   \n",
       "25%   -1.307132e+00 -1.021981e+00 -8.533909e-01      -7.460868e-01   \n",
       "50%   -4.171064e-01  9.784921e-01 -8.533909e-01       2.537113e-01   \n",
       "75%    4.729190e-01  9.784921e-01  1.091641e+00       2.537113e-01   \n",
       "max    1.362944e+00  9.784921e-01  2.064157e+00       2.253308e+00   \n",
       "\n",
       "       StudyTimeWeekly      Absences      Tutoring  ParentalSupport  \\\n",
       "count     2.392000e+03  2.392000e+03  2.392000e+03     2.392000e+03   \n",
       "mean      1.173346e-16  8.911489e-18 -2.970496e-17    -1.336723e-17   \n",
       "std       1.000209e+00  1.000209e+00  1.000209e+00     1.000209e+00   \n",
       "min      -1.728882e+00 -1.717694e+00 -6.568700e-01    -1.890357e+00   \n",
       "25%      -8.367399e-01 -8.908224e-01 -6.568700e-01    -9.995505e-01   \n",
       "50%      -1.178937e-02  5.417330e-02 -6.568700e-01    -1.087439e-01   \n",
       "75%       8.203737e-01  8.810445e-01  1.522371e+00     7.820626e-01   \n",
       "max       1.805881e+00  1.707916e+00  1.522371e+00     1.672869e+00   \n",
       "\n",
       "       Extracurricular        Sports         Music  Volunteering  \\\n",
       "count     2.392000e+03  2.392000e+03  2.392000e+03  2.392000e+03   \n",
       "mean      4.232957e-17 -4.158695e-17 -4.010170e-17 -8.465915e-17   \n",
       "std       1.000209e+00  1.000209e+00  1.000209e+00  1.000209e+00   \n",
       "min      -7.884763e-01 -6.601320e-01 -4.951614e-01 -4.318656e-01   \n",
       "25%      -7.884763e-01 -6.601320e-01 -4.951614e-01 -4.318656e-01   \n",
       "50%      -7.884763e-01 -6.601320e-01 -4.951614e-01 -4.318656e-01   \n",
       "75%       1.268269e+00  1.514848e+00 -4.951614e-01 -4.318656e-01   \n",
       "max       1.268269e+00  1.514848e+00  2.019544e+00  2.315535e+00   \n",
       "\n",
       "                GPA    GradeClass  \n",
       "count  2.392000e+03  2.392000e+03  \n",
       "mean   4.381482e-17 -1.782298e-17  \n",
       "std    1.000209e+00  1.000209e+00  \n",
       "min   -2.083345e+00 -2.418592e+00  \n",
       "25%   -7.993565e-01 -7.973866e-01  \n",
       "50%   -1.398263e-02  8.238193e-01  \n",
       "75%    7.825767e-01  8.238193e-01  \n",
       "max    2.288410e+00  8.238193e-01  "
      ]
     },
     "execution_count": 15,
     "metadata": {},
     "output_type": "execute_result"
    }
   ],
   "source": [
    "df_std.describe()"
   ]
  },
  {
   "cell_type": "markdown",
   "id": "a8de394b",
   "metadata": {},
   "source": [
    "Теперь mean ≈ 0, std ≈ 1"
   ]
  },
  {
   "cell_type": "markdown",
   "id": "fc246241",
   "metadata": {},
   "source": [
    "#### Сбалансированность данных"
   ]
  },
  {
   "cell_type": "code",
   "execution_count": 28,
   "id": "9476b53b",
   "metadata": {},
   "outputs": [
    {
     "data": {
      "text/plain": [
       "np.float64(0.911643270024773)"
      ]
     },
     "execution_count": 28,
     "metadata": {},
     "output_type": "execute_result"
    }
   ],
   "source": [
    "mx_cat = df_std['GradeClass'].value_counts().idxmax()\n",
    "mn_cat = df_std['GradeClass'].value_counts().idxmin()\n",
    "1 - df_std['GradeClass'].value_counts()[mn_cat] / df_std['GradeClass'].value_counts()[mx_cat]"
   ]
  },
  {
   "cell_type": "markdown",
   "id": "2de93779",
   "metadata": {},
   "source": [
    "Получили, что разница между самым маленьким и большим классом составляет 90%. Это означает, что данные несбалансированны. Об этом важно будет помнить при обучении модели. "
   ]
  },
  {
   "cell_type": "markdown",
   "id": "3a8e54d8",
   "metadata": {},
   "source": [
    "#### Матрица корреляций"
   ]
  },
  {
   "cell_type": "code",
   "execution_count": null,
   "id": "2245247d",
   "metadata": {},
   "outputs": [
    {
     "data": {
      "text/plain": [
       "<Axes: >"
      ]
     },
     "execution_count": 42,
     "metadata": {},
     "output_type": "execute_result"
    },
    {
     "data": {
      "image/png": "[encoded data removed]",
      "text/plain": [
       "<Figure size 800x400 with 2 Axes>"
      ]
     },
     "metadata": {},
     "output_type": "display_data"
    }
   ],
   "source": [
    "corr = df_std.corr()\n",
    "mask = (-0.2 < corr) & (corr < 0.2)\n",
    "\n",
    "plt.figure(figsize = (8, 4))\n",
    "sns.heatmap(corr, vmax=1, mask = mask, vmin=-1, annot=True)"
   ]
  },
  {
   "cell_type": "markdown",
   "id": "7da8148b",
   "metadata": {},
   "source": [
    "#### еще что-то"
   ]
  },
  {
   "cell_type": "markdown",
   "id": "75da8650",
   "metadata": {},
   "source": [
    "мб надо делать все это отдельная для train и для test?"
   ]
  },
  {
   "cell_type": "markdown",
   "id": "c957ba1e",
   "metadata": {},
   "source": []
  }
 ],
 "metadata": {
  "kernelspec": {
   "display_name": "Python 3",
   "language": "python",
   "name": "python3"
  },
  "language_info": {
   "codemirror_mode": {
    "name": "ipython",
    "version": 3
   },
   "file_extension": ".py",
   "mimetype": "text/x-python",
   "name": "python",
   "nbconvert_exporter": "python",
   "pygments_lexer": "ipython3",
   "version": "3.12.5"
  }
 },
 "nbformat": 4,
 "nbformat_minor": 5
}
